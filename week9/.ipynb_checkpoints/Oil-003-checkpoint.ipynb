{
 "cells": [
  {
   "cell_type": "code",
   "execution_count": 1,
   "id": "fd13929e-69dd-4efe-968d-e1ff7585b5b1",
   "metadata": {},
   "outputs": [],
   "source": [
    "import pandas as pd\n",
    "import numpy as np\n",
    "import matplotlib.pyplot as plt\n",
    "from sklearn import linear_model"
   ]
  },
  {
   "cell_type": "code",
   "execution_count": 2,
   "id": "72f1de9c-a5bf-4a98-a2a8-36d6f1c8be2d",
   "metadata": {},
   "outputs": [],
   "source": [
    "df = pd.read_excel('gdprussia.xlsx')"
   ]
  },
  {
   "cell_type": "code",
   "execution_count": 3,
   "id": "5f4dbf0c-f287-495b-bc03-429e8c77831d",
   "metadata": {},
   "outputs": [
    {
     "data": {
      "text/html": [
       "<div>\n",
       "<style scoped>\n",
       "    .dataframe tbody tr th:only-of-type {\n",
       "        vertical-align: middle;\n",
       "    }\n",
       "\n",
       "    .dataframe tbody tr th {\n",
       "        vertical-align: top;\n",
       "    }\n",
       "\n",
       "    .dataframe thead th {\n",
       "        text-align: right;\n",
       "    }\n",
       "</style>\n",
       "<table border=\"1\" class=\"dataframe\">\n",
       "  <thead>\n",
       "    <tr style=\"text-align: right;\">\n",
       "      <th></th>\n",
       "      <th>year</th>\n",
       "      <th>oilprice</th>\n",
       "      <th>gdp</th>\n",
       "    </tr>\n",
       "  </thead>\n",
       "  <tbody>\n",
       "    <tr>\n",
       "      <th>0</th>\n",
       "      <td>2018</td>\n",
       "      <td>71.06</td>\n",
       "      <td>1657.554647</td>\n",
       "    </tr>\n",
       "    <tr>\n",
       "      <th>1</th>\n",
       "      <td>2017</td>\n",
       "      <td>54.25</td>\n",
       "      <td>1578.624061</td>\n",
       "    </tr>\n",
       "    <tr>\n",
       "      <th>2</th>\n",
       "      <td>2016</td>\n",
       "      <td>43.55</td>\n",
       "      <td>1282.723881</td>\n",
       "    </tr>\n",
       "    <tr>\n",
       "      <th>3</th>\n",
       "      <td>2015</td>\n",
       "      <td>52.35</td>\n",
       "      <td>1363.594370</td>\n",
       "    </tr>\n",
       "    <tr>\n",
       "      <th>4</th>\n",
       "      <td>2014</td>\n",
       "      <td>99.03</td>\n",
       "      <td>2059.984158</td>\n",
       "    </tr>\n",
       "    <tr>\n",
       "      <th>5</th>\n",
       "      <td>2013</td>\n",
       "      <td>108.56</td>\n",
       "      <td>2297.128039</td>\n",
       "    </tr>\n",
       "    <tr>\n",
       "      <th>6</th>\n",
       "      <td>2012</td>\n",
       "      <td>111.63</td>\n",
       "      <td>2210.256977</td>\n",
       "    </tr>\n",
       "    <tr>\n",
       "      <th>7</th>\n",
       "      <td>2011</td>\n",
       "      <td>111.27</td>\n",
       "      <td>2051.661732</td>\n",
       "    </tr>\n",
       "    <tr>\n",
       "      <th>8</th>\n",
       "      <td>2010</td>\n",
       "      <td>79.47</td>\n",
       "      <td>1524.917468</td>\n",
       "    </tr>\n",
       "    <tr>\n",
       "      <th>9</th>\n",
       "      <td>2009</td>\n",
       "      <td>61.51</td>\n",
       "      <td>1222.644282</td>\n",
       "    </tr>\n",
       "    <tr>\n",
       "      <th>10</th>\n",
       "      <td>2008</td>\n",
       "      <td>96.99</td>\n",
       "      <td>1660.846388</td>\n",
       "    </tr>\n",
       "    <tr>\n",
       "      <th>11</th>\n",
       "      <td>2007</td>\n",
       "      <td>72.52</td>\n",
       "      <td>1299.705765</td>\n",
       "    </tr>\n",
       "    <tr>\n",
       "      <th>12</th>\n",
       "      <td>2006</td>\n",
       "      <td>65.14</td>\n",
       "      <td>989.930542</td>\n",
       "    </tr>\n",
       "    <tr>\n",
       "      <th>13</th>\n",
       "      <td>2005</td>\n",
       "      <td>54.38</td>\n",
       "      <td>764.017108</td>\n",
       "    </tr>\n",
       "    <tr>\n",
       "      <th>14</th>\n",
       "      <td>2004</td>\n",
       "      <td>38.10</td>\n",
       "      <td>591.016691</td>\n",
       "    </tr>\n",
       "  </tbody>\n",
       "</table>\n",
       "</div>"
      ],
      "text/plain": [
       "    year  oilprice          gdp\n",
       "0   2018     71.06  1657.554647\n",
       "1   2017     54.25  1578.624061\n",
       "2   2016     43.55  1282.723881\n",
       "3   2015     52.35  1363.594370\n",
       "4   2014     99.03  2059.984158\n",
       "5   2013    108.56  2297.128039\n",
       "6   2012    111.63  2210.256977\n",
       "7   2011    111.27  2051.661732\n",
       "8   2010     79.47  1524.917468\n",
       "9   2009     61.51  1222.644282\n",
       "10  2008     96.99  1660.846388\n",
       "11  2007     72.52  1299.705765\n",
       "12  2006     65.14   989.930542\n",
       "13  2005     54.38   764.017108\n",
       "14  2004     38.10   591.016691"
      ]
     },
     "execution_count": 3,
     "metadata": {},
     "output_type": "execute_result"
    }
   ],
   "source": [
    "df"
   ]
  },
  {
   "cell_type": "code",
   "execution_count": 4,
   "id": "74e39fe0-0f95-4842-8b9d-208d11bb455d",
   "metadata": {},
   "outputs": [
    {
     "data": {
      "text/plain": [
       "Text(0, 0.5, 'GDP, Russia (bln US$)')"
      ]
     },
     "execution_count": 4,
     "metadata": {},
     "output_type": "execute_result"
    },
    {
     "data": {
      "image/png": "[encoded data removed]",
      "text/plain": [
       "<Figure size 640x480 with 1 Axes>"
      ]
     },
     "metadata": {},
     "output_type": "display_data"
    }
   ],
   "source": [
    "get_ipython().run_line_magic('matplotlib', 'inline')\n",
    "plt.scatter(df.oilprice, df.gdp)\n",
    "plt.xlabel('oil price (US$)')\n",
    "plt.ylabel('GDP, Russia (bln US$)')"
   ]
  },
  {
   "cell_type": "code",
   "execution_count": 5,
   "id": "2ae1678f-b752-4b39-a668-aeb2a21c1ea5",
   "metadata": {},
   "outputs": [
    {
     "data": {
      "text/plain": [
       "LinearRegression()"
      ]
     },
     "execution_count": 5,
     "metadata": {},
     "output_type": "execute_result"
    }
   ],
   "source": [
    "reg = linear_model.LinearRegression()\n",
    "reg.fit(df[['oilprice']], df.gdp)"
   ]
  },
  {
   "cell_type": "code",
   "execution_count": 6,
   "id": "2351d953-9eaf-45ee-86df-e6e67f4de1f9",
   "metadata": {},
   "outputs": [
    {
     "data": {
      "text/plain": [
       "array([1440.70392944, 1146.33492766,  958.9614405 , 1113.06300003,\n",
       "       1930.50172716, 2097.38671151, 2151.14714194, 2144.84298723,\n",
       "       1587.97598803, 1273.46871427, 1894.77818382, 1466.27077909,\n",
       "       1337.03560757, 1148.61142797,  863.52354284])"
      ]
     },
     "execution_count": 6,
     "metadata": {},
     "output_type": "execute_result"
    }
   ],
   "source": [
    "reg.predict(df[['oilprice']])"
   ]
  },
  {
   "cell_type": "code",
   "execution_count": 7,
   "id": "5b1aded5-a067-4c9d-a6c6-455b8654fbf1",
   "metadata": {},
   "outputs": [
    {
     "data": {
      "text/plain": [
       "[<matplotlib.lines.Line2D at 0x225f96f3c70>]"
      ]
     },
     "execution_count": 7,
     "metadata": {},
     "output_type": "execute_result"
    },
    {
     "data": {
      "image/png": "[encoded data removed]",
      "text/plain": [
       "<Figure size 640x480 with 1 Axes>"
      ]
     },
     "metadata": {},
     "output_type": "display_data"
    }
   ],
   "source": [
    "get_ipython().run_line_magic('matplotlib', 'inline')\n",
    "plt.scatter(df.oilprice, df.gdp)\n",
    "plt.xlabel('oil price (US$)')\n",
    "plt.ylabel('GDP, Russia (bln US$)')\n",
    "plt.plot(df.oilprice, reg.predict(df[['oilprice']]))"
   ]
  },
  {
   "cell_type": "code",
   "execution_count": 8,
   "id": "5390f638-4b08-4295-b5b2-75135616d9d6",
   "metadata": {},
   "outputs": [
    {
     "name": "stderr",
     "output_type": "stream",
     "text": [
      "C:\\Users\\user\\anaconda3\\lib\\site-packages\\sklearn\\base.py:450: UserWarning: X does not have valid feature names, but LinearRegression was fitted with feature names\n",
      "  warnings.warn(\n"
     ]
    },
    {
     "data": {
      "text/plain": [
       "array([2823.06496456])"
      ]
     },
     "execution_count": 8,
     "metadata": {},
     "output_type": "execute_result"
    }
   ],
   "source": [
    "reg.predict([[150]])"
   ]
  },
  {
   "cell_type": "code",
   "execution_count": 9,
   "id": "1877ff6a-4350-48f0-a109-e8bf20e56306",
   "metadata": {},
   "outputs": [
    {
     "data": {
      "text/plain": [
       "LinearRegression()"
      ]
     },
     "execution_count": 9,
     "metadata": {},
     "output_type": "execute_result"
    }
   ],
   "source": [
    "reg = linear_model.LinearRegression()\n",
    "reg.fit(df[['year','oilprice']], df.gdp)"
   ]
  },
  {
   "cell_type": "code",
   "execution_count": 10,
   "id": "bb52496a-3de9-44a3-955b-d5c549dfc2c4",
   "metadata": {},
   "outputs": [
    {
     "data": {
      "text/plain": [
       "array([1825.73114636, 1494.80416625, 1264.3667999 , 1354.64096684,\n",
       "       2067.91784565, 2170.19813666, 2166.23245305, 2105.85443307,\n",
       "       1528.39074095, 1178.55000374, 1707.62333522, 1250.71428612,\n",
       "       1074.88011416,  843.45594309,  521.24573798])"
      ]
     },
     "execution_count": 10,
     "metadata": {},
     "output_type": "execute_result"
    }
   ],
   "source": [
    "reg.predict(df[['year','oilprice']])"
   ]
  },
  {
   "cell_type": "code",
   "execution_count": 11,
   "id": "f62c1a35-2704-4516-8967-e8165e7b30ca",
   "metadata": {},
   "outputs": [
    {
     "name": "stderr",
     "output_type": "stream",
     "text": [
      "C:\\Users\\user\\anaconda3\\lib\\site-packages\\sklearn\\base.py:450: UserWarning: X does not have valid feature names, but LinearRegression was fitted with feature names\n",
      "  warnings.warn(\n"
     ]
    },
    {
     "data": {
      "text/plain": [
       "array([2682.90029696])"
      ]
     },
     "execution_count": 11,
     "metadata": {},
     "output_type": "execute_result"
    }
   ],
   "source": [
    "reg.predict([[2025,100]])"
   ]
  },
  {
   "cell_type": "code",
   "execution_count": null,
   "id": "d1ae9fd7-41da-47ba-9b9f-943bc8362dc2",
   "metadata": {},
   "outputs": [],
   "source": []
  }
 ],
 "metadata": {
  "kernelspec": {
   "display_name": "Python 3 (ipykernel)",
   "language": "python",
   "name": "python3"
  },
  "language_info": {
   "codemirror_mode": {
    "name": "ipython",
    "version": 3
   },
   "file_extension": ".py",
   "mimetype": "text/x-python",
   "name": "python",
   "nbconvert_exporter": "python",
   "pygments_lexer": "ipython3",
   "version": "3.9.13"
  }
 },
 "nbformat": 4,
 "nbformat_minor": 5
}
